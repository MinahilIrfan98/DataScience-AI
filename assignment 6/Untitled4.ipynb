{
 "cells": [
  {
   "cell_type": "code",
   "execution_count": 1,
   "id": "4ab0ad99-68f1-4832-9af9-272be7301b28",
   "metadata": {},
   "outputs": [
    {
     "name": "stdout",
     "output_type": "stream",
     "text": [
      "\n",
      "🔹 Logistic Regression Accuracy: 0.699\n",
      "🔹 Random Forest Accuracy: 0.679\n",
      "\n",
      "✅ Logistic Regression performed better.\n"
     ]
    }
   ],
   "source": [
    "# Step 1: Import Libraries\n",
    "import pandas as pd\n",
    "from sklearn.model_selection import train_test_split\n",
    "from sklearn.feature_extraction.text import CountVectorizer\n",
    "from sklearn.linear_model import LogisticRegression\n",
    "from sklearn.ensemble import RandomForestClassifier\n",
    "from sklearn.metrics import accuracy_score\n",
    "\n",
    "# Step 2: Load Dataset\n",
    "file_path = r\"C:\\Users\\DELL\\Downloads\\twitter_sentiment_cleaned.csv\"\n",
    "df = pd.read_csv(file_path, encoding='latin-1')\n",
    "\n",
    "# Step 3: Rename columns for clarity\n",
    "df.rename(columns={'target': 'sentiment', 'text': 'tweet'}, inplace=True)\n",
    "\n",
    "# Step 4: Drop missing values and take smaller sample\n",
    "df = df.dropna(subset=['tweet', 'sentiment'])\n",
    "df = df.sample(5000, random_state=42)   # 💡 use only 5000 rows for faster training\n",
    "\n",
    "# Step 5: Split data\n",
    "X = df['tweet']\n",
    "y = df['sentiment']\n",
    "\n",
    "# Step 6: Convert text to numeric features\n",
    "vectorizer = CountVectorizer(stop_words='english', max_features=2000)\n",
    "X_vectorized = vectorizer.fit_transform(X)\n",
    "\n",
    "# Step 7: Train-test split\n",
    "X_train, X_test, y_train, y_test = train_test_split(X_vectorized, y, test_size=0.2, random_state=42)\n",
    "\n",
    "# Step 8: Logistic Regression\n",
    "lr = LogisticRegression(max_iter=200)\n",
    "lr.fit(X_train, y_train)\n",
    "lr_acc = lr.score(X_test, y_test)\n",
    "\n",
    "# Step 9: Random Forest\n",
    "rf = RandomForestClassifier(n_estimators=100, random_state=42, n_jobs=-1)\n",
    "rf.fit(X_train, y_train)\n",
    "rf_acc = rf.score(X_test, y_test)\n",
    "\n",
    "# Step 10: Results\n",
    "print(f\"\\n🔹 Logistic Regression Accuracy: {lr_acc:.3f}\")\n",
    "print(f\"🔹 Random Forest Accuracy: {rf_acc:.3f}\")\n",
    "\n",
    "if lr_acc > rf_acc:\n",
    "    print(\"\\n✅ Logistic Regression performed better.\")\n",
    "elif rf_acc > lr_acc:\n",
    "    print(\"\\n✅ Random Forest performed better.\")\n",
    "else:\n",
    "    print(\"\\n⚖️ Both models performed equally well.\")\n"
   ]
  }
 ],
 "metadata": {
  "kernelspec": {
   "display_name": "Python [conda env:base] *",
   "language": "python",
   "name": "conda-base-py"
  },
  "language_info": {
   "codemirror_mode": {
    "name": "ipython",
    "version": 3
   },
   "file_extension": ".py",
   "mimetype": "text/x-python",
   "name": "python",
   "nbconvert_exporter": "python",
   "pygments_lexer": "ipython3",
   "version": "3.13.5"
  }
 },
 "nbformat": 4,
 "nbformat_minor": 5
}
